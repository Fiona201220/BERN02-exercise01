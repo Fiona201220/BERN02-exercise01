{
 "cells": [
  {
   "cell_type": "code",
   "execution_count": 4,
   "metadata": {},
   "outputs": [],
   "source": [
    "import numpy as np\n",
    "import pandas as pd\n",
    "import matplotlib.pyplot as plt"
   ]
  },
  {
   "cell_type": "code",
   "execution_count": 19,
   "metadata": {},
   "outputs": [
    {
     "name": "stdout",
     "output_type": "stream",
     "text": [
      "\n",
      "Note: you may need to restart the kernel to use updated packages.\n"
     ]
    }
   ],
   "source": [
    "conda env export > environment.yml \n"
   ]
  },
  {
   "cell_type": "code",
   "execution_count": null,
   "metadata": {},
   "outputs": [],
   "source": [
    "!conda list"
   ]
  },
  {
   "cell_type": "markdown",
   "metadata": {},
   "source": [
    "function for performing predictions with Local Regression"
   ]
  },
  {
   "cell_type": "code",
   "execution_count": 21,
   "metadata": {},
   "outputs": [],
   "source": [
    "def loess(x, y, x_pred, k):\n",
    "   \n",
    "    y_pred = np.zeros(len(x_pred))\n",
    "    y_pred_se = np.zeros(len(x_pred))\n",
    "\n",
    "    # for each x_pred_i\n",
    "    for j, x0 in enumerate(x_pred):\n",
    "        distances = np.abs(x - x0)\n",
    "        nearest_points= np.argsort(distances)[:k]\n",
    "        x_near = x[nearest_points]\n",
    "        #print(x_near)\n",
    "        y_near = y[nearest_points]\n",
    "\n",
    "        # calculate weight\n",
    "        max_distance = distances[nearest_points[-1]]\n",
    "        weights = 1 - distances[nearest_points] / max_distance\n",
    "        weights /= np.sum(weights) \n",
    "        mean_x = np.sum(weights * x_near) \n",
    "        mean_y = np.sum(weights * y_near) \n",
    "        \n",
    "        # \n",
    "        beta_1 = np.sum(weights * (x_near - mean_x) * (y_near - mean_y)) / np.sum(weights * (x_near - mean_x)**2)\n",
    "        beta_0 = mean_y - beta_1 * mean_x\n",
    "        \n",
    "        # predict y at x0\n",
    "        y_pred[j] = beta_0 + beta_1 * x0\n",
    "        # since we don't know the true value of y_pred, but we konw the points near x0\n",
    "        r2 = (y_near - (beta_0 + beta_1 * x_near))**2\n",
    "        rss = np.sum(weights * r2)\n",
    "        # standard error\n",
    "        y_pred_se[j] = np.sqrt(rss / (k - 2))\n",
    "    \n",
    "    return y_pred, y_pred_se\n",
    "    "
   ]
  },
  {
   "cell_type": "markdown",
   "metadata": {},
   "source": [
    "y_pred: a vector of predicted values, and\n",
    "\n",
    "y_pred_se: a vector of standard deviation of the expected value of each predicted value"
   ]
  },
  {
   "cell_type": "code",
   "execution_count": 22,
   "metadata": {},
   "outputs": [],
   "source": [
    "df = pd.read_csv('/Users/wangxiaofei/Desktop/BERN02/data/pollution_cleaneddata.csv')"
   ]
  },
  {
   "cell_type": "markdown",
   "metadata": {},
   "source": [
    "y: a vector of observations of the response variable\n",
    "x: a vector of observations of the predictor\n",
    "k: the number of neighboring points to include in each local regression and"
   ]
  },
  {
   "cell_type": "code",
   "execution_count": 23,
   "metadata": {},
   "outputs": [],
   "source": [
    "x = df['POOR'].values\n",
    "y = df['MORT'].values\n",
    "k = 5"
   ]
  },
  {
   "cell_type": "markdown",
   "metadata": {},
   "source": [
    "Predict Total age-adjusted mortality rate per 100,000 (MORT) for an area with 10, 18 and 25 % of families with income < $3000 (POOR)\n",
    "Provide predictions with the expected value and the standard error.\n",
    "x_pred: a vector of values for which a prediction is going to be made"
   ]
  },
  {
   "cell_type": "code",
   "execution_count": 24,
   "metadata": {},
   "outputs": [
    {
     "name": "stdout",
     "output_type": "stream",
     "text": [
      "(array([ 885.12530986,  950.58250582, 1033.30692946]), array([ 9.30178581,  4.71662232, 29.0763406 ]))\n"
     ]
    }
   ],
   "source": [
    "x_pred = [10,18,25]\n",
    "y_pred = loess(x, y, x_pred, k)\n",
    "y_pred_se = loess(x, y, x_pred, k)\n",
    "# predictions with the expected value and the standard error.\n",
    "print( y_pred)"
   ]
  },
  {
   "cell_type": "markdown",
   "metadata": {},
   "source": [
    "F:findable. People can find all data and functions.\n",
    "A:accessible. Data retrievable using a standardised communications protocol on Github: https://github.com/Fiona201220/BERN02-exercise01\n",
    "I:interoperable. Data formats is csv, which can be integrated with other workflows.\n",
    "R:reusable. Use markdown to describe how to define the functions, which can be used even others change the data.\n",
    "            Fiona201220/BERN02-exercise01 is licensed under the Creative Commons Zero v1.0 Universal"
   ]
  }
 ],
 "metadata": {
  "kernelspec": {
   "display_name": "base",
   "language": "python",
   "name": "python3"
  },
  "language_info": {
   "codemirror_mode": {
    "name": "ipython",
    "version": 3
   },
   "file_extension": ".py",
   "mimetype": "text/x-python",
   "name": "python",
   "nbconvert_exporter": "python",
   "pygments_lexer": "ipython3",
   "version": "3.11.4"
  }
 },
 "nbformat": 4,
 "nbformat_minor": 2
}
