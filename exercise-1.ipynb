{
 "cells": [
  {
   "cell_type": "code",
   "execution_count": null,
   "metadata": {},
   "outputs": [],
   "source": [
    "import numpy as np\n",
    "import pandas as pd\n",
    "import matplotlib.pyplot as plt"
   ]
  },
  {
   "cell_type": "markdown",
   "metadata": {},
   "source": [
    "hhlkhk"
   ]
  },
  {
   "cell_type": "code",
   "execution_count": null,
   "metadata": {},
   "outputs": [],
   "source": [
    "def loess(x, y, x_pred, k):\n",
    "   \n",
    "    y_pred = np.zeros(len(x_pred))\n",
    "    y_pred_se = np.zeros(len(x_pred))\n",
    "\n",
    "    # for each x_pred_i\n",
    "    for j, x0 in enumerate(x_pred):\n",
    "        distances = np.abs(x - x0)\n",
    "        nearest_points= np.argsort(distances)[:k]\n",
    "        x_near = x[nearest_points]\n",
    "        #print(x_near)\n",
    "        y_near = y[nearest_points]\n",
    "\n",
    "        # calculate weight\n",
    "        max_distance = distances[nearest_points[-1]]\n",
    "        weights = 1 - distances[nearest_points] / max_distance\n",
    "        weights /= np.sum(weights) \n",
    "        mean_x = np.sum(weights * x_near) \n",
    "        mean_y = np.sum(weights * y_near) \n",
    "        \n",
    "        # \n",
    "        beta_1 = np.sum(weights * (x_near - mean_x) * (y_near - mean_y)) / np.sum(weights * (x_near - mean_x)**2)\n",
    "        beta_0 = mean_y - beta_1 * mean_x\n",
    "        \n",
    "        # predict y at x0\n",
    "        y_pred[j] = beta_0 + beta_1 * x0\n",
    "        # since we don't know the true value of y_pred, but we konw the points near x0\n",
    "        r2 = (y_near - (beta_0 + beta_1 * x_near))**2\n",
    "        rss = np.sum(weights * r2)\n",
    "        # standard error\n",
    "        y_pred_se[j] = np.sqrt(rss / (k - 2))\n",
    "    \n",
    "    return y_pred, y_pred_se\n",
    "    "
   ]
  },
  {
   "cell_type": "code",
   "execution_count": null,
   "metadata": {},
   "outputs": [],
   "source": [
    "df = pd.read_csv('/Users/wangxiaofei/Desktop/pollution_cleaneddata.csv')\n",
    "\n",
    "x = df['POOR'].values\n",
    "y = df['MORT'].values\n",
    "k = 5\n",
    "# prediction\n",
    "x_pred = [10,18,25]\n",
    "y_pred = loess(x, y, x_pred, k)\n",
    "y_pred_se = loess(x, y, x_pred, k)\n",
    "# predictions with the expected value and the standard error.\n",
    "print( y_pred)"
   ]
  }
 ],
 "metadata": {
  "kernelspec": {
   "display_name": "base",
   "language": "python",
   "name": "python3"
  },
  "language_info": {
   "name": "python",
   "version": "3.11.4"
  }
 },
 "nbformat": 4,
 "nbformat_minor": 2
}
